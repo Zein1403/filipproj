{
 "cells": [
  {
   "cell_type": "code",
   "execution_count": 18,
   "id": "8a9199d3-c563-4363-8967-d608c1e6dbb9",
   "metadata": {},
   "outputs": [
    {
     "name": "stderr",
     "output_type": "stream",
     "text": [
      "2025-08-11 13:31:29.960 Thread 'MainThread': missing ScriptRunContext! This warning can be ignored when running in bare mode.\n",
      "2025-08-11 13:31:29.962 Thread 'MainThread': missing ScriptRunContext! This warning can be ignored when running in bare mode.\n",
      "2025-08-11 13:31:29.964 Thread 'MainThread': missing ScriptRunContext! This warning can be ignored when running in bare mode.\n",
      "2025-08-11 13:31:29.967 Thread 'MainThread': missing ScriptRunContext! This warning can be ignored when running in bare mode.\n",
      "2025-08-11 13:31:29.969 Thread 'MainThread': missing ScriptRunContext! This warning can be ignored when running in bare mode.\n",
      "2025-08-11 13:31:29.974 Thread 'MainThread': missing ScriptRunContext! This warning can be ignored when running in bare mode.\n",
      "2025-08-11 13:31:29.976 Thread 'MainThread': missing ScriptRunContext! This warning can be ignored when running in bare mode.\n",
      "2025-08-11 13:31:29.978 Thread 'MainThread': missing ScriptRunContext! This warning can be ignored when running in bare mode.\n",
      "2025-08-11 13:31:29.980 Thread 'MainThread': missing ScriptRunContext! This warning can be ignored when running in bare mode.\n",
      "2025-08-11 13:31:29.982 Thread 'MainThread': missing ScriptRunContext! This warning can be ignored when running in bare mode.\n"
     ]
    }
   ],
   "source": [
    "# inventory_app.py\n",
    "import streamlit as st\n",
    "import csv\n",
    "import os\n",
    "from datetime import datetime\n",
    "\n",
    "# File name\n",
    "filename_pemasangan = 'Pemasangan.csv'\n",
    "filename_pelepasan = 'Pelepasan.csv'\n",
    "\n",
    "# Create CSV with header if not exists\n",
    "if not os.path.exists(filename_pemasangan):\n",
    "    with open(filename, 'w', newline='') as f:\n",
    "        writer = csv.writer(f)\n",
    "        writer.writerow(['Tanggal','Kode filter', 'Jam pemasangan', 'Flow Awal', 'Elapsed Time Awal','Nama Petugas Pemasangan'])\n",
    "if not os.path.exists(filename_pelepasan):\n",
    "    with open(filename, 'w', newline='') as f:\n",
    "        writer = csv.writer(f)\n",
    "        writer.writerow(['Tanggal','Kode filter', 'Jam pelepasan', 'Flow Akhir', 'Elapsed Time Akhir','Nama Petugas Pelepasan'])\n",
    "\n",
    "st.title(\"📦 Sampling Filipina\")\n",
    "\n",
    "# Sidebar menu\n",
    "menu = st.sidebar.radio(\"Menu\", [\"Pemasangan\", \"Pelepasan\", \"Lihat CSV\"])\n",
    "\n"
   ]
  },
  {
   "cell_type": "code",
   "execution_count": 23,
   "id": "1eb9bcb5-9aa7-4b84-b0e0-d9ccebd22cbf",
   "metadata": {},
   "outputs": [
    {
     "name": "stderr",
     "output_type": "stream",
     "text": [
      "2025-08-11 13:46:24.529 Thread 'MainThread': missing ScriptRunContext! This warning can be ignored when running in bare mode.\n",
      "2025-08-11 13:46:24.531 Thread 'MainThread': missing ScriptRunContext! This warning can be ignored when running in bare mode.\n",
      "2025-08-11 13:46:24.534 Thread 'MainThread': missing ScriptRunContext! This warning can be ignored when running in bare mode.\n",
      "2025-08-11 13:46:24.538 Thread 'MainThread': missing ScriptRunContext! This warning can be ignored when running in bare mode.\n",
      "2025-08-11 13:46:24.540 Thread 'MainThread': missing ScriptRunContext! This warning can be ignored when running in bare mode.\n",
      "2025-08-11 13:46:24.542 Thread 'MainThread': missing ScriptRunContext! This warning can be ignored when running in bare mode.\n",
      "2025-08-11 13:46:24.545 Thread 'MainThread': missing ScriptRunContext! This warning can be ignored when running in bare mode.\n",
      "2025-08-11 13:46:24.547 Thread 'MainThread': missing ScriptRunContext! This warning can be ignored when running in bare mode.\n",
      "2025-08-11 13:46:24.548 Thread 'MainThread': missing ScriptRunContext! This warning can be ignored when running in bare mode.\n",
      "2025-08-11 13:46:24.550 Thread 'MainThread': missing ScriptRunContext! This warning can be ignored when running in bare mode.\n"
     ]
    }
   ],
   "source": [
    "import streamlit as st\n",
    "import csv\n",
    "import os\n",
    "from datetime import datetime\n",
    "\n",
    "# File names\n",
    "filename_pemasangan = 'Pemasangan.csv'\n",
    "filename_pelepasan = 'Pelepasan.csv'\n",
    "\n",
    "# Create CSV with header if not exists\n",
    "if not os.path.exists(filename_pemasangan):\n",
    "    with open(filename_pemasangan, 'w', newline='') as f:\n",
    "        writer = csv.writer(f)\n",
    "        writer.writerow(['Tanggal Pemasangan', 'Kode filter', 'Jam pemasangan', 'Flow Awal', 'Elapsed Time Awal', 'Nama Petugas Pemasangan'])\n",
    "\n",
    "if not os.path.exists(filename_pelepasan):\n",
    "    with open(filename_pelepasan, 'w', newline='') as f:\n",
    "        writer = csv.writer(f)\n",
    "        writer.writerow(['Tanggal Pelepasan', 'Kode filter', 'Jam pelepasan', 'Flow Akhir', 'Elapsed Time Akhir', 'Nama Petugas Pelepasan'])\n",
    "\n",
    "st.title(\"📦 Sampling Filipina\")\n",
    "\n",
    "# Sidebar menu\n",
    "menu = st.sidebar.radio(\"Menu\", [\"Pemasangan\", \"Pelepasan\", \"Lihat CSV\"])\n",
    "\n",
    "# Load CSV data\n",
    "def load_data(file_path):\n",
    "    with open(file_path, 'r', newline='') as f:\n",
    "        return list(csv.DictReader(f))\n",
    "\n",
    "if menu == \"Pemasangan\":\n",
    "    data = load_data(filename_pemasangan)\n",
    "elif menu == \"Pelepasan\":\n",
    "    data = load_data(filename_pelepasan)\n",
    "\n",
    "# Save CSV data\n",
    "def save_data(file_path, rows, fieldnames):\n",
    "    with open(file_path, 'w', newline='') as f:\n",
    "        writer = csv.DictWriter(f, fieldnames=fieldnames)\n",
    "        writer.writeheader()\n",
    "        writer.writerows(rows)\n",
    "\n",
    "if menu == \"Pemasangan\":\n",
    "    fieldnames = ['Tanggal Peamasangan','Kode filter', 'Jam pemasangan', 'Flow Awal', 'Elapsed Time Awal','Nama Petugas Pemasangan']\n",
    "    save_data(filename_pemasangan, data, fieldnames)\n",
    "\n",
    "elif menu == \"Pelepasan\":\n",
    "    fieldnames = ['Tanggal Pelepasan','Kode filter', 'Jam pelepasan', 'Flow Akhir', 'Elapsed Time Akhir','Nama Petugas Pelepasan']\n",
    "    save_data(filename_pelepasan, data, fieldnames)\n"
   ]
  },
  {
   "cell_type": "code",
   "execution_count": null,
   "id": "ff48fbff-0db0-4731-af23-2b710a82f1ff",
   "metadata": {},
   "outputs": [],
   "source": []
  }
 ],
 "metadata": {
  "kernelspec": {
   "display_name": "Python 3 (ipykernel)",
   "language": "python",
   "name": "python3"
  },
  "language_info": {
   "codemirror_mode": {
    "name": "ipython",
    "version": 3
   },
   "file_extension": ".py",
   "mimetype": "text/x-python",
   "name": "python",
   "nbconvert_exporter": "python",
   "pygments_lexer": "ipython3",
   "version": "3.12.7"
  }
 },
 "nbformat": 4,
 "nbformat_minor": 5
}
