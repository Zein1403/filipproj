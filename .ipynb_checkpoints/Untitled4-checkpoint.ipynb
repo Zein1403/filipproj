{
 "cells": [
  {
   "cell_type": "code",
   "execution_count": null,
   "id": "b0282ca5-4668-44e8-85a6-47541735d071",
   "metadata": {},
   "outputs": [],
   "source": []
  }
 ],
 "metadata": {
  "kernelspec": {
   "display_name": "Python 3 (ipykernel)",
   "language": "python",
   "name": "python3"
  },
  "language_info": {
   "name": ""
  }
 },
 "nbformat": 4,
 "nbformat_minor": 5
}
