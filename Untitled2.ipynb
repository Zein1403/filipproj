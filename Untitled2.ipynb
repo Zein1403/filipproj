{
 "cells": [
  {
   "cell_type": "code",
   "execution_count": 2,
   "id": "fb89b5c6-6387-4c84-a43e-911856df4469",
   "metadata": {},
   "outputs": [
    {
     "name": "stdout",
     "output_type": "stream",
     "text": [
      "Defaulting to user installation because normal site-packages is not writeable\n",
      "Requirement already satisfied: gspread-formatting in c:\\users\\asus\\appdata\\roaming\\python\\python312\\site-packages (1.2.1)\n",
      "Requirement already satisfied: gspread>=3.0.0 in c:\\users\\asus\\appdata\\roaming\\python\\python312\\site-packages (from gspread-formatting) (6.2.1)\n",
      "Requirement already satisfied: google-auth>=1.12.0 in c:\\users\\asus\\appdata\\roaming\\python\\python312\\site-packages (from gspread>=3.0.0->gspread-formatting) (2.40.3)\n",
      "Requirement already satisfied: google-auth-oauthlib>=0.4.1 in c:\\users\\asus\\appdata\\roaming\\python\\python312\\site-packages (from gspread>=3.0.0->gspread-formatting) (1.2.2)\n",
      "Requirement already satisfied: cachetools<6.0,>=2.0.0 in e:\\new\\lib\\site-packages (from google-auth>=1.12.0->gspread>=3.0.0->gspread-formatting) (5.3.3)\n",
      "Requirement already satisfied: pyasn1-modules>=0.2.1 in e:\\new\\lib\\site-packages (from google-auth>=1.12.0->gspread>=3.0.0->gspread-formatting) (0.2.8)\n",
      "Requirement already satisfied: rsa<5,>=3.1.4 in c:\\users\\asus\\appdata\\roaming\\python\\python312\\site-packages (from google-auth>=1.12.0->gspread>=3.0.0->gspread-formatting) (4.9.1)\n",
      "Requirement already satisfied: requests-oauthlib>=0.7.0 in c:\\users\\asus\\appdata\\roaming\\python\\python312\\site-packages (from google-auth-oauthlib>=0.4.1->gspread>=3.0.0->gspread-formatting) (2.0.0)\n",
      "Requirement already satisfied: pyasn1<0.5.0,>=0.4.6 in e:\\new\\lib\\site-packages (from pyasn1-modules>=0.2.1->google-auth>=1.12.0->gspread>=3.0.0->gspread-formatting) (0.4.8)\n",
      "Requirement already satisfied: oauthlib>=3.0.0 in c:\\users\\asus\\appdata\\roaming\\python\\python312\\site-packages (from requests-oauthlib>=0.7.0->google-auth-oauthlib>=0.4.1->gspread>=3.0.0->gspread-formatting) (3.3.1)\n",
      "Requirement already satisfied: requests>=2.0.0 in e:\\new\\lib\\site-packages (from requests-oauthlib>=0.7.0->google-auth-oauthlib>=0.4.1->gspread>=3.0.0->gspread-formatting) (2.32.3)\n",
      "Requirement already satisfied: charset-normalizer<4,>=2 in e:\\new\\lib\\site-packages (from requests>=2.0.0->requests-oauthlib>=0.7.0->google-auth-oauthlib>=0.4.1->gspread>=3.0.0->gspread-formatting) (3.3.2)\n",
      "Requirement already satisfied: idna<4,>=2.5 in e:\\new\\lib\\site-packages (from requests>=2.0.0->requests-oauthlib>=0.7.0->google-auth-oauthlib>=0.4.1->gspread>=3.0.0->gspread-formatting) (3.7)\n",
      "Requirement already satisfied: urllib3<3,>=1.21.1 in e:\\new\\lib\\site-packages (from requests>=2.0.0->requests-oauthlib>=0.7.0->google-auth-oauthlib>=0.4.1->gspread>=3.0.0->gspread-formatting) (2.2.3)\n",
      "Requirement already satisfied: certifi>=2017.4.17 in e:\\new\\lib\\site-packages (from requests>=2.0.0->requests-oauthlib>=0.7.0->google-auth-oauthlib>=0.4.1->gspread>=3.0.0->gspread-formatting) (2024.8.30)\n",
      "Note: you may need to restart the kernel to use updated packages.\n"
     ]
    }
   ],
   "source": [
    "pip install gspread-formatting\n"
   ]
  },
  {
   "cell_type": "code",
   "execution_count": null,
   "id": "e576762a-4a67-4717-90ed-acbf8b320091",
   "metadata": {},
   "outputs": [],
   "source": []
  }
 ],
 "metadata": {
  "kernelspec": {
   "display_name": "Python 3 (ipykernel)",
   "language": "python",
   "name": "python3"
  },
  "language_info": {
   "codemirror_mode": {
    "name": "ipython",
    "version": 3
   },
   "file_extension": ".py",
   "mimetype": "text/x-python",
   "name": "python",
   "nbconvert_exporter": "python",
   "pygments_lexer": "ipython3",
   "version": "3.12.7"
  }
 },
 "nbformat": 4,
 "nbformat_minor": 5
}
